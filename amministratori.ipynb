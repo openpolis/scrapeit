{
 "cells": [
  {
   "cell_type": "markdown",
   "metadata": {},
   "source": [
    "Collegamento ad ``es.openpolis.it`` e verifica dell'esistenza e dello status dell'indice politici.\n",
    "Estrazione di un'aggregazione di esempioo (per titolo di studio).\n",
    "\n"
   ]
  },
  {
   "cell_type": "code",
   "execution_count": 1,
   "metadata": {},
   "outputs": [],
   "source": [
    "import tortilla\n",
    "import requests"
   ]
  },
  {
   "cell_type": "code",
   "execution_count": 2,
   "metadata": {},
   "outputs": [],
   "source": [
    "es_url = \"http://es.openpolis.it:80/\"\n",
    "es_user = 'es_admin'\n",
    "es_password = 'Vakka94'"
   ]
  },
  {
   "cell_type": "code",
   "execution_count": 3,
   "metadata": {},
   "outputs": [],
   "source": [
    "est = tortilla.wrap(\n",
    "    es_url,\n",
    "        headers={\n",
    "            'Authorization':\n",
    "                requests.auth._basic_auth_str(es_user, es_password)\n",
    "        }\n",
    "    )"
   ]
  },
  {
   "cell_type": "code",
   "execution_count": 4,
   "metadata": {},
   "outputs": [
    {
     "data": {
      "text/plain": [
       "{'politici_v1': {'aliases': {'politici': {}},\n",
       "  'mappings': {'incarico': {'properties': {'codice_fiscale': {'type': 'string'},\n",
       "     'codice_regione': {'type': 'string'},\n",
       "     'cognome': {'type': 'string'},\n",
       "     'data_elezione': {'type': 'string'},\n",
       "     'data_entrata_in_carica': {'type': 'string'},\n",
       "     'data_nascita': {'type': 'string'},\n",
       "     'denominazione_regione': {'type': 'string'},\n",
       "     'descrizione_carica': {'type': 'string'},\n",
       "     'luogo_nascita': {'type': 'string'},\n",
       "     'nome': {'type': 'string'},\n",
       "     'partito': {'type': 'string'},\n",
       "     'professione': {'type': 'string'},\n",
       "     'sesso': {'type': 'string'},\n",
       "     'titolo_accademico': {'type': 'string'},\n",
       "     'titolo_studio': {'fields': {'raw': {'index': 'not_analyzed',\n",
       "        'type': 'string'}},\n",
       "      'type': 'string'}}}},\n",
       "  'settings': {'index': {'creation_date': '1425631308296',\n",
       "    'number_of_replicas': '1',\n",
       "    'number_of_shards': '5',\n",
       "    'uuid': 'RTqbE6PkRF6TERcrLHHkMA',\n",
       "    'version': {'created': '1040499'}}},\n",
       "  'warmers': {}}}"
      ]
     },
     "execution_count": 4,
     "output_type": "execute_result",
     "metadata": {}
    }
   ],
   "source": [
    "est.politici.get()"
   ]
  },
  {
   "cell_type": "code",
   "execution_count": 5,
   "metadata": {},
   "outputs": [
    {
     "name": "stdout",
     "output_type": "stream",
     "text": [
      "LAUREA: 666\n",
      "LICENZA DI SCUOLA MEDIA SUP. O TITOLI EQUIPOLLENTI: 316\n",
      "LICENZA MEDIA SUPERIORE: 99\n",
      ": 60\n",
      "LICENZA DI SCUOLA MEDIA INF. O TITOLI EQUIPOLLENTI: 26\n",
      "LICENZA MEDIA INFERIORE: 8\n",
      "TITOLI O DIPLOMI PROFESSIONALI POST MEDIA INFER.: 8\n",
      "LAUREA  BREVE: 5\n",
      "SPECIALIZZAZIONE POST LAUREA / DOTTORATO DI RICERCA: 4\n",
      "ALTRI TITOLI  POST-LAUREA: 3\n"
     ]
    }
   ],
   "source": [
    "titoli = est.politici_v1.incarico._search.get(\n",
    "    params={'search_type': 'count'},\n",
    "    data={'aggs': {'the_title': {'terms': {'field': 'titolo_studio.raw'}}}}\n",
    ")\n",
    "for t in titoli.aggregations.the_title.buckets:\n",
    "    print(\"{0}: {1}\".format(t.key, t.doc_count))"
   ]
  },
  {
   "cell_type": "code",
   "metadata": {},
   "outputs": [],
   "source": [
    ""
   ]
  }
 ],
 "metadata": {
  "kernelspec": {
   "display_name": "Python 3",
   "language": "python",
   "name": "python3"
  },
  "language_info": {
   "codemirror_mode": {
    "name": "ipython",
    "version": 3.0
   },
   "file_extension": ".py",
   "mimetype": "text/x-python",
   "name": "python",
   "nbconvert_exporter": "python",
   "pygments_lexer": "ipython3",
   "version": "3.4.3"
  }
 },
 "nbformat": 4,
 "nbformat_minor": 0
}